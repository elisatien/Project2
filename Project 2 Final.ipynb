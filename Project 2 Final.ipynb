{
 "cells": [
  {
   "cell_type": "markdown",
   "id": "b98652d7",
   "metadata": {},
   "source": [
    "## BIMM 143 Project 2 Final - Elisa Tien"
   ]
  },
  {
   "cell_type": "markdown",
   "id": "ec806d0d",
   "metadata": {},
   "source": [
    "#### Scientific Question \n",
    "Are PPAR receptor subsets mainly unique to humans or are they also present in other species, and how similar are the human PPAR receptors and their subsets to other species, and which species, if any? \n",
    "\n",
    "#### Scientific Hypothesis\n",
    "If PPAR receptor subsets are not unique to humans and are significantly present in other species, then there will be species with PPAR receptors subsets that have high similarity rates >75% with humans PPAR receptors and subsets.\n",
    "\n",
    "#### Protein\n",
    "PPAR or Peroxisome proliterator-activated receptors are nuclear receptor proteins and ligand-activated transcription factors that play important roles in homeostasis and metabolic function. There are three subtypes of PPAR: PPAR Alpha, PPAR Delta, and PPAR Gamma. They are all involved in different functions. Branching off of the research paper in Project 1, PPAR Alpha receptors were required to be present and functional in order for the 10Z Hexadecinoic Acid to have anti-inflammatory effects by decreasing the IL6 levels. This was specfically PPAR Alpha, and PPAR Gamma and PPAR Delta did not have a role in this, so my research question and hypothesis branches off this phenomenon. I was then interested in whether or not PPAR Gamma and Delta were only present in humans, or if they also played roles in other species and not just PPAR Alpha. \n"
   ]
  },
  {
   "cell_type": "markdown",
   "id": "c0576511",
   "metadata": {},
   "source": [
    "#### What Analyses were done\n",
    "\n",
    "BLAST search\n",
    "- BLAST, or Basic Local Alignment Search Tool, is used to find similarities between nucleotide and protein sequences. Running a BLAST search for a sequence can return back other strand of sequences that match it in similarity, and their percentages of similarity, how similar they are and where and what the alignments are. This can be performed through platforms like NCBI.\n",
    "\n",
    "pairwise sequence alignment\n",
    "- Pairwise sequence alignment is a bioinformatics method used to identify the similarities between two sequences, either DNA or protein. It is used to locate eactly where the similarities and matches are on the two strands of sequences. It also provides an alignment score, using a scoring system, given points for a match, and a potential deduction of points for a mismatch, depending on what it is set to. \n",
    "\n",
    "Dot plot\n",
    "- Dot plots are a graphical method to display regions of simiilarity between two sequences. It is a similarity matrix to visualize this similarity, and exactly where the matches are. Dot plots typically have grid features, and a darkened grid represents a match between the nucleotides, with each sequence on one axis. The shape of the darkened grids are used to explaing the data. A full diagonal can be explained by a perfect match between the two sequences and other curves or patterns can be explained by shifts, deletions, and others. \n"
   ]
  },
  {
   "cell_type": "markdown",
   "id": "1c0c0258",
   "metadata": {},
   "source": [
    "#### Packages\n",
    "- __numpy__: Numpy is a library and a fundamental package that is primarily used for working with arrays and provides the means to work with a large variety of mathmatical functions. It includes multidimensional array objects, derived objects like matrices, and many operations on arrays. It is also able to perform linear algebra, statiscial operations, and more. The numpy array elements need to be the same data type. \n",
    "- __matplotlib__: Matplotlib is a library used primarily for plotting and creating interactive visualizationg in Python. It allows creating of figures, plots, axes, labels, tick marks, and all the details. It can plot numpy arrays and pandas dataframes. Matplotlib has a required dependency on numpy and uses its functions for numerical data and multi-dimensional arrays. Through matplotlib.pyplot as plt, it can generate line, pie, and bar plots with simple numbers. \n",
    "- __pylab__: Pylab is a module that usually gets installed with matplotlib and is a procedural interface to the matplotlib plotting library which is object oriented. It is a module that combines the plotting functionalisties of matplotlib.pyplot and the math and array features of numpy, and essentialy bulk imports both numpy and matplotlib.pyplot in just a single name space. \n",
    "- __Biopython__: Biopython contains a large collection of computational biology and bioinformatics tools. It's various modules can allow it to read in and write to a large variety of different formats of files and perform many tasks like sequence alignment and analyzing protein structure. Biopython can also be used for progammatic access to online databases like NCBI, which will be used in this project for BLAST searches.  Biopython needs to be installed. I used pip install for installation, but conda install works as well.\n",
    "\n",
    "#### Data\n",
    "The fasta files used in this project were all downloaded from NCBI. \"PPAR Alpha\", \"PPAR Gamma\", and \"PPAR Delta\" were all searched in the search engine of NCBI and filtered for homo sapien results. The first hit was downloaded as a fasta file. BLAST search results and files were saved as xml files through the code. "
   ]
  },
  {
   "cell_type": "markdown",
   "id": "ff0bab42",
   "metadata": {},
   "source": [
    "#### Installing and importing needed packages"
   ]
  },
  {
   "cell_type": "code",
   "execution_count": 3,
   "id": "5aea3029",
   "metadata": {},
   "outputs": [
    {
     "name": "stdout",
     "output_type": "stream",
     "text": [
      "Requirement already satisfied: biopython in /Users/elisa/opt/anaconda3/lib/python3.9/site-packages (1.79)\n",
      "Requirement already satisfied: numpy in /Users/elisa/opt/anaconda3/lib/python3.9/site-packages (from biopython) (1.20.3)\n",
      "Note: you may need to restart the kernel to use updated packages.\n"
     ]
    }
   ],
   "source": [
    "# intalling biopython\n",
    "pip install biopython"
   ]
  },
  {
   "cell_type": "code",
   "execution_count": 3,
   "id": "0c54a1c8",
   "metadata": {},
   "outputs": [],
   "source": [
    "# importing in all needed packages\n",
    "import numpy as np\n",
    "import matplotlib.pyplot as plt\n",
    "import pylab\n",
    "from Bio import AlignIO\n",
    "from Bio import SeqIO\n",
    "from Bio.Seq import Seq\n",
    "from Bio.SeqRecord import SeqRecord\n",
    "from Bio import pairwise2\n",
    "from Bio.pairwise2 import format_alignment "
   ]
  },
  {
   "cell_type": "markdown",
   "id": "0b8a28c1",
   "metadata": {},
   "source": [
    "### Reading in data to perform BLAST searches\n",
    "\n",
    "In the code below, we will be reading in fasta files downloaded from Uniprot. Fasta files are text-based formatted files of sequences of nucleotides or amino acids. It includes single-letter codes and the names of the sequences. \"PPAR Alpha\" was searched in NCBI and filtered for homosapiens. The first option was downloaded and used here. After loading in the fasta file data, a BLAST search was performed on it using NCBIWWW imported from Bio.Blast package from Biopython. The BLAST search results were then saved as an xml file. An XML file is an Extensible Markeup Language file format, which can be used to store, transmit, and reconstruct arbitrary data. It can include both text and tags which format the data. This data format can then be used to encode information for database records, documentation, and more. NCBIXML was imported from Bio.Blast in order to read the xml files. The BLAST search results were then displayed, and the first hit of a species that was not homo sapien was identified and extracted. This same process was done for the PPAR Gamma and PPAR Delta as well. "
   ]
  },
  {
   "cell_type": "markdown",
   "id": "96c8c5df",
   "metadata": {},
   "source": [
    "#### PPAR Alpha"
   ]
  },
  {
   "cell_type": "code",
   "execution_count": 234,
   "id": "3453244d",
   "metadata": {
    "scrolled": false
   },
   "outputs": [],
   "source": [
    "# read in the homo sapien PPAR Alpha fasta file from NCBI\n",
    "# assign the homo sapien PPAR Alpha sequence to variable humanPPARA\n",
    "# global variable\n",
    "\n",
    "humanPPARA = open(\"sequence-2.fasta\").read() \n",
    "#humanPPARA"
   ]
  },
  {
   "cell_type": "code",
   "execution_count": 4,
   "id": "fe334f5a",
   "metadata": {},
   "outputs": [],
   "source": [
    "# import NCBIWWW to perform BLAST searches \n",
    "from Bio.Blast import NCBIWWW"
   ]
  },
  {
   "cell_type": "code",
   "execution_count": 209,
   "id": "1a7cd479",
   "metadata": {},
   "outputs": [
    {
     "data": {
      "text/plain": [
       "<_io.StringIO at 0x7f88c84c2430>"
      ]
     },
     "execution_count": 209,
     "metadata": {},
     "output_type": "execute_result"
    }
   ],
   "source": [
    "# perform BLAST search on homo sapien PPAR Alpha and assign the search to variable result_handle\n",
    "# global variable\n",
    "\n",
    "humanPPARA_results = NCBIWWW.qblast(\"blastn\", \"nt\", humanPPARA) \n",
    "humanPPARA_results"
   ]
  },
  {
   "cell_type": "code",
   "execution_count": 210,
   "id": "70f2a548",
   "metadata": {},
   "outputs": [],
   "source": [
    "# save the BLAST search results in an xml file\n",
    "\n",
    "with open('humanPPARA_BLASTresults.xml', 'w') as save_file: \n",
    "    blast_results = humanPPARA_results.read()\n",
    "    save_file.write(blast_results)"
   ]
  },
  {
   "cell_type": "code",
   "execution_count": 211,
   "id": "0fe3b184",
   "metadata": {
    "scrolled": true
   },
   "outputs": [
    {
     "name": "stdout",
     "output_type": "stream",
     "text": [
      "gi|2017363567|ref|NM_001393947.1| Homo sapiens peroxisome proliferator activated receptor alpha (PPARA), transcript variant 16, mRNA\n",
      "0.0\n",
      "gi|1677538777|ref|NM_005036.6| Homo sapiens peroxisome proliferator activated receptor alpha (PPARA), transcript variant 5, mRNA\n",
      "0.0\n",
      "gi|1677530536|ref|NM_001362872.2| Homo sapiens peroxisome proliferator activated receptor alpha (PPARA), transcript variant 8, mRNA\n",
      "0.0\n",
      "gi|1147680974|emb|LT736577.1| Human ORFeome Gateway entry vector pENTR223-PPARA, complete sequence\n",
      "0.0\n",
      "gi|823669937|gb|KR709799.1| Synthetic construct Homo sapiens clone CCSBHm_00006148 PPARA (PPARA) mRNA, encodes complete protein\n",
      "0.0\n",
      "gi|2217339894|ref|XM_047441430.1| PREDICTED: Homo sapiens peroxisome proliferator activated receptor alpha (PPARA), transcript variant X14, mRNA\n",
      "0.0\n",
      "gi|2217339892|ref|XM_047441429.1| PREDICTED: Homo sapiens peroxisome proliferator activated receptor alpha (PPARA), transcript variant X13, mRNA\n",
      "0.0\n",
      "gi|2217339890|ref|XM_047441428.1| PREDICTED: Homo sapiens peroxisome proliferator activated receptor alpha (PPARA), transcript variant X12, mRNA\n",
      "0.0\n",
      "gi|2217339885|ref|XM_047441426.1| PREDICTED: Homo sapiens peroxisome proliferator activated receptor alpha (PPARA), transcript variant X9, mRNA\n",
      "0.0\n",
      "gi|2217339883|ref|XM_047441425.1| PREDICTED: Homo sapiens peroxisome proliferator activated receptor alpha (PPARA), transcript variant X8, mRNA\n",
      "0.0\n",
      "gi|2217339881|ref|XM_047441424.1| PREDICTED: Homo sapiens peroxisome proliferator activated receptor alpha (PPARA), transcript variant X7, mRNA\n",
      "0.0\n",
      "gi|2217339879|ref|XM_047441423.1| PREDICTED: Homo sapiens peroxisome proliferator activated receptor alpha (PPARA), transcript variant X6, mRNA\n",
      "0.0\n",
      "gi|2217339877|ref|XM_047441422.1| PREDICTED: Homo sapiens peroxisome proliferator activated receptor alpha (PPARA), transcript variant X5, mRNA\n",
      "0.0\n",
      "gi|2217339875|ref|XM_047441421.1| PREDICTED: Homo sapiens peroxisome proliferator activated receptor alpha (PPARA), transcript variant X4, mRNA\n",
      "0.0\n",
      "gi|2217339873|ref|XM_047441420.1| PREDICTED: Homo sapiens peroxisome proliferator activated receptor alpha (PPARA), transcript variant X3, mRNA\n",
      "0.0\n",
      "gi|2217339872|ref|XM_011530239.3| PREDICTED: Homo sapiens peroxisome proliferator activated receptor alpha (PPARA), transcript variant X2, mRNA\n",
      "0.0\n",
      "gi|2217339871|ref|XM_011530240.3| PREDICTED: Homo sapiens peroxisome proliferator activated receptor alpha (PPARA), transcript variant X1, mRNA\n",
      "0.0\n",
      "gi|649136760|gb|KJ901654.1| Synthetic construct Homo sapiens clone ccsbBroadEn_11048 PPARA gene, encodes complete protein\n",
      "0.0\n",
      "gi|2017363554|ref|NM_001393944.1| Homo sapiens peroxisome proliferator activated receptor alpha (PPARA), transcript variant 13, mRNA\n",
      "0.0\n",
      "gi|2017363543|ref|NM_001393942.1| Homo sapiens peroxisome proliferator activated receptor alpha (PPARA), transcript variant 11, mRNA\n",
      "0.0\n",
      "gi|2017363525|ref|NM_001393941.1| Homo sapiens peroxisome proliferator activated receptor alpha (PPARA), transcript variant 10, mRNA\n",
      "0.0\n",
      "gi|2017363516|ref|NM_001001929.3| Homo sapiens peroxisome proliferator activated receptor alpha (PPARA), transcript variant 4, mRNA\n",
      "0.0\n",
      "gi|2017363513|ref|NM_001393943.1| Homo sapiens peroxisome proliferator activated receptor alpha (PPARA), transcript variant 12, mRNA\n",
      "0.0\n",
      "gi|2017363512|ref|NM_001362873.3| Homo sapiens peroxisome proliferator activated receptor alpha (PPARA), transcript variant 9, mRNA\n",
      "0.0\n",
      "gi|2017363506|ref|NM_001393946.1| Homo sapiens peroxisome proliferator activated receptor alpha (PPARA), transcript variant 15, mRNA\n",
      "0.0\n",
      "gi|2017363490|ref|NM_001393945.1| Homo sapiens peroxisome proliferator activated receptor alpha (PPARA), transcript variant 14, mRNA\n",
      "0.0\n",
      "gi|1890273028|ref|NM_001001928.4| Homo sapiens peroxisome proliferator activated receptor alpha (PPARA), transcript variant 3, mRNA\n",
      "0.0\n",
      "gi|216409687|dbj|AB307690.1| Homo sapiens NR1C1 mRNA for peroxisome proliferator activated receptor alpha, complete cds\n",
      "0.0\n",
      "gi|208965325|dbj|AB463164.1| Synthetic construct DNA, clone: pF1KB9549, Homo sapiens PPARA gene for peroxisome proliferator-activated receptor alpha, without stop codon, in Flexi system\n",
      "0.0\n",
      "gi|187476342|gb|EU650667.1| Homo sapiens cell-line HepG2 peroxisome proliferator-activated receptor alpha mRNA, complete cds >gi|325495534|gb|HQ692862.1| Homo sapiens peroxisome proliferator-activated nuclear receptor alpha variant 3 (NR1C1) mRNA, complete cds\n",
      "0.0\n",
      "gi|168149275|emb|CU674014.1| Synthetic construct Homo sapiens gateway clone IMAGE:100018064 5' read PPARA mRNA\n",
      "0.0\n",
      "gi|165909397|gb|EU395809.1| Homo sapiens peroxisome proliferator-activated receptor alpha splice variant (PPARA) mRNA, complete cds, alternatively spliced\n",
      "0.0\n",
      "gi|109452029|emb|CU013435.1| Homo sapiens PPARA, mRNA (cDNA clone IMAGE:100000404), complete cds, without stop codon, in Gateway system\n",
      "0.0\n",
      "gi|109451433|emb|CU013147.1| Homo sapiens PPARA, mRNA (cDNA clone IMAGE:100000500), complete cds, with stop codon, in Gateway system\n",
      "0.0\n",
      "gi|33875149|gb|BC000052.2| Homo sapiens peroxisome proliferator-activated receptor alpha, mRNA (cDNA clone IMAGE:3505209)\n",
      "0.0\n",
      "gi|765239|gb|S74349.1| hPPAR alpha =peroxisome proliferator activated receptor alpha [human, liver, mRNA, 1731 nt]\n",
      "0.0\n",
      "gi|48146986|emb|CR457435.1| Homo sapiens full open reading frame cDNA clone RZPDo834B076D for gene PPARA, peroxisome proliferative activated receptor, alpha; complete cds, incl. stopcodon\n",
      "0.0\n",
      "gi|47678624|emb|CR456547.1| Homo sapiens PPARA full length open reading frame (ORF) cDNA clone (cDNA clone C22ORF:pGEM.PPARA)\n",
      "0.0\n",
      "gi|307340|gb|L02932.1|HUMPPAR Human peroxisome proliferator activated receptor mRNA, complete cds\n",
      "0.0\n",
      "gi|823669935|gb|KR709798.1| Synthetic construct Homo sapiens clone CCSBHm_00006147 PPARA (PPARA) mRNA, encodes complete protein\n",
      "0.0\n",
      "gi|823669933|gb|KR709797.1| Synthetic construct Homo sapiens clone CCSBHm_00006146 PPARA (PPARA) mRNA, encodes complete protein\n",
      "0.0\n",
      "gi|158260664|dbj|AK289821.1| Homo sapiens cDNA FLJ76337 complete cds, highly similar to Homo sapiens peroxisome proliferative activated receptor, alpha(PPARA), transcript variant 3, mRNA\n",
      "0.0\n",
      "gi|1848980636|ref|XM_034951726.1| PREDICTED: Pan paniscus peroxisome proliferator activated receptor alpha (PPARA), transcript variant X6, mRNA\n",
      "0.0\n",
      "gi|1848980635|ref|XM_024927111.2| PREDICTED: Pan paniscus peroxisome proliferator activated receptor alpha (PPARA), transcript variant X5, mRNA\n",
      "0.0\n",
      "gi|1848980633|ref|XM_034951725.1| PREDICTED: Pan paniscus peroxisome proliferator activated receptor alpha (PPARA), transcript variant X4, mRNA\n",
      "0.0\n",
      "gi|1848980632|ref|XM_008964792.3| PREDICTED: Pan paniscus peroxisome proliferator activated receptor alpha (PPARA), transcript variant X3, mRNA\n",
      "0.0\n",
      "gi|1848980630|ref|XM_034951724.1| PREDICTED: Pan paniscus peroxisome proliferator activated receptor alpha (PPARA), transcript variant X2, mRNA\n",
      "0.0\n",
      "gi|1848980628|ref|XM_034951723.1| PREDICTED: Pan paniscus peroxisome proliferator activated receptor alpha (PPARA), transcript variant X1, mRNA\n",
      "0.0\n",
      "gi|1753057328|ref|XM_031005426.1| PREDICTED: Gorilla gorilla gorilla peroxisome proliferator activated receptor alpha (PPARA), transcript variant X5, mRNA\n",
      "0.0\n",
      "gi|1753057327|ref|XM_019018620.2| PREDICTED: Gorilla gorilla gorilla peroxisome proliferator activated receptor alpha (PPARA), transcript variant X4, mRNA\n",
      "0.0\n"
     ]
    }
   ],
   "source": [
    "# import NCBIXML to read the xml files\n",
    "from Bio.Blast import NCBIXML\n",
    "\n",
    "# open xml file\n",
    "humanPPARAxml = open(\"humanPPARA_BLASTresults.xml\")\n",
    "blast_record = NCBIXML.read(humanPPARAxml)\n",
    "\n",
    "# display the hits based off of similarity\n",
    "for hit in blast_record.descriptions: \n",
    "    print(hit.title)\n",
    "    print(hit.e)\n",
    "    \n",
    "\n",
    "# the first hit of a different species that was not a homo sapien was gi|1848980636|ref|XM_034951726.1| PREDICTED: Pan paniscus peroxisome proliferator activated receptor alpha (PPARA), transcript variant X6, mRNA\n",
    "# the Pan paniscus is an endangered great ape\n",
    "# extract that file from NCBI for use in pairwise sequence alignment "
   ]
  },
  {
   "cell_type": "code",
   "execution_count": 233,
   "id": "d6d4dc0b",
   "metadata": {
    "scrolled": true
   },
   "outputs": [],
   "source": [
    "# read in the Pan paniscus hit gi|1848980636|ref|XM_034951726.1| PREDICTED: Pan paniscus peroxisome proliferator activated receptor alpha (PPARA), transcript variant X6, mRNA\n",
    "# this will be used for the pairwise sequence alignment\n",
    "\n",
    "ApePPARA = open(\"ApePPARA.fasta\").read() \n",
    "#ApePPARA"
   ]
  },
  {
   "cell_type": "markdown",
   "id": "948b1172",
   "metadata": {},
   "source": [
    "#### PPAR Gamma"
   ]
  },
  {
   "cell_type": "code",
   "execution_count": 232,
   "id": "3d68a340",
   "metadata": {
    "scrolled": true
   },
   "outputs": [],
   "source": [
    "# read in the homo sapien PPAR Gamma fasta file downloaded from NCBI\n",
    "# assign the homo sapien PPAR Gamma sequence to variable humanPPARG\n",
    "# global variable\n",
    "\n",
    "humanPPARG = open(\"humanPPARGamma.fasta\").read() \n",
    "#humanPPARG"
   ]
  },
  {
   "cell_type": "code",
   "execution_count": 227,
   "id": "317ff7a7",
   "metadata": {},
   "outputs": [
    {
     "data": {
      "text/plain": [
       "<_io.StringIO at 0x7f88c812be50>"
      ]
     },
     "execution_count": 227,
     "metadata": {},
     "output_type": "execute_result"
    }
   ],
   "source": [
    "# perform BLAST search on homo sapien PPAR Gamma and assign the search to variable humanPPARG_results\n",
    "# global variable\n",
    "\n",
    "humanPPARG_results = NCBIWWW.qblast(\"blastn\", \"nt\", humanPPARG) \n",
    "humanPPARG_results"
   ]
  },
  {
   "cell_type": "code",
   "execution_count": 228,
   "id": "9f499807",
   "metadata": {},
   "outputs": [],
   "source": [
    "# save the BLAST search results in an xml file\n",
    "\n",
    "with open('humanPPARG_BLASTresults.xml', 'w') as save_file: \n",
    "    PPARG_blast_results = humanPPARG_results.read()\n",
    "    save_file.write(PPARG_blast_results)"
   ]
  },
  {
   "cell_type": "code",
   "execution_count": 229,
   "id": "4a11ffab",
   "metadata": {
    "scrolled": true
   },
   "outputs": [
    {
     "name": "stdout",
     "output_type": "stream",
     "text": [
      "gi|1743235135|ref|NM_015869.5| Homo sapiens peroxisome proliferator activated receptor gamma (PPARG), transcript variant 2, mRNA\n",
      "0.0\n",
      "gi|1711116|gb|U79012.1|HSU79012 Human ligand activated transcription factor PPARgamma2 mRNA, complete cds\n",
      "0.0\n",
      "gi|1432176|gb|U63415.1|HSU63415 Human peroxisome proliferator activated receptor gamma 2 mRNA, complete cds\n",
      "0.0\n",
      "gi|197692374|dbj|AB451337.1| Homo sapiens PPARG mRNA for peroxisome proliferative activated receptor gamma isoform 2, complete cds, clone: FLJ82517SAAN\n",
      "0.0\n",
      "gi|197692672|dbj|AB451486.1| Homo sapiens PPARG mRNA for peroxisome proliferative activated receptor gamma isoform 2, partial cds, clone: FLJ82517SAAF\n",
      "0.0\n",
      "gi|1367268168|ref|XM_016940489.2| PREDICTED: Pan troglodytes peroxisome proliferator activated receptor gamma (PPARG), transcript variant X1, mRNA\n",
      "0.0\n",
      "gi|1199768|dbj|D83233.1|HUMPPARG Homo sapiens mRNA for PPAR gamma2, complete cds\n",
      "0.0\n",
      "gi|1753067011|ref|XM_031009720.1| PREDICTED: Gorilla gorilla gorilla peroxisome proliferator activated receptor gamma (PPARG), transcript variant X1, mRNA\n",
      "0.0\n",
      "gi|1743191188|ref|XM_003264989.3| PREDICTED: Nomascus leucogenys peroxisome proliferator activated receptor gamma (PPARG), transcript variant X1, mRNA\n",
      "0.0\n",
      "gi|1799969597|ref|XM_032149739.1| PREDICTED: Hylobates moloch peroxisome proliferator activated receptor gamma (PPARG), transcript variant X1, mRNA\n",
      "0.0\n",
      "gi|1751187119|ref|XM_030928006.1| PREDICTED: Rhinopithecus roxellana peroxisome proliferator activated receptor gamma (PPARG), transcript variant X1, mRNA\n",
      "0.0\n",
      "gi|1381512509|ref|XM_011734384.2| PREDICTED: Macaca nemestrina peroxisome proliferator activated receptor gamma (PPARG), transcript variant X1, mRNA\n",
      "0.0\n",
      "gi|795153109|ref|XM_011983591.1| PREDICTED: Mandrillus leucophaeus peroxisome proliferator-activated receptor gamma (PPARG), transcript variant X1, mRNA\n",
      "0.0\n",
      "gi|1411137941|ref|XM_025377451.1| PREDICTED: Theropithecus gelada peroxisome proliferator activated receptor gamma (PPARG), transcript variant X1, mRNA\n",
      "0.0\n",
      "gi|795233623|ref|XM_011952320.1| PREDICTED: Colobus angolensis palliatus peroxisome proliferator-activated receptor gamma (PPARG), transcript variant X1, mRNA\n",
      "0.0\n",
      "gi|795153114|ref|XM_011983592.1| PREDICTED: Mandrillus leucophaeus peroxisome proliferator-activated receptor gamma (PPARG), transcript variant X2, mRNA\n",
      "0.0\n",
      "gi|74136280|ref|NM_001032860.1| Macaca mulatta peroxisome proliferator activated receptor gamma (PPARG), mRNA >gi|2645730|gb|AF033103.1|AF033103 Macaca mulatta peroxisome proliferator-activated receptor gamma 2 (PPARg2) mRNA, complete cds\n",
      "0.0\n",
      "gi|1777300193|ref|XM_021934188.2| PREDICTED: Papio anubis peroxisome proliferator activated receptor gamma (PPARG), transcript variant X1, mRNA\n",
      "0.0\n",
      "gi|795598244|ref|XM_012060189.1| PREDICTED: Cercocebus atys peroxisome proliferator-activated receptor gamma (PPARG), transcript variant X8, mRNA\n",
      "0.0\n",
      "gi|2161885112|ref|XM_015445344.2| PREDICTED: Macaca fascicularis peroxisome proliferator activated receptor gamma (PPARG), transcript variant X1, mRNA\n",
      "0.0\n",
      "gi|15723731|gb|AY048695.1| Macaca fascicularis peroxisome proliferator-activated receptor gamma 2 (PPARgamma2) mRNA, complete cds\n",
      "0.0\n",
      "gi|1828166754|dbj|AB247367.1| Homo sapiens PPARG5 mRNA for peroxisome proliferator-activated receptor-gamma 5, complete cds, tissue_type:liver\n",
      "0.0\n",
      "gi|1828166750|dbj|AB247365.1| Homo sapiens PPARG5 mRNA for peroxisome proliferator-activated receptor-gamma 5, complete cds, tissue_type:adipose tissue\n",
      "0.0\n",
      "gi|1823752903|ref|NM_005037.7| Homo sapiens peroxisome proliferator activated receptor gamma (PPARG), transcript variant 4, mRNA\n",
      "0.0\n",
      "gi|1823752869|ref|NM_001354667.3| Homo sapiens peroxisome proliferator activated receptor gamma (PPARG), transcript variant 7, mRNA\n",
      "0.0\n",
      "gi|17978515|gb|L40904.2|HUMPPARGB Homo sapiens peroxisome proliferator activated receptor gamma (PPARG) mRNA, complete cds\n",
      "0.0\n",
      "gi|1480099|emb|X90563.1| H.sapiens mRNA for peroxisome proliferactor activated receptor gamma\n",
      "0.0\n",
      "gi|1828166752|dbj|AB247366.1| Homo sapiens PPARG mRNA for peroxisome proliferator-activated receptor-gamma splicing variant, complete cds, tissue_type:adipose tissue\n",
      "0.0\n",
      "gi|1823752944|ref|NM_001354666.3| Homo sapiens peroxisome proliferator activated receptor gamma (PPARG), transcript variant 6, mRNA\n",
      "0.0\n",
      "gi|1823752908|ref|NM_138712.5| Homo sapiens peroxisome proliferator activated receptor gamma (PPARG), transcript variant 1, mRNA\n",
      "0.0\n",
      "gi|1823752878|ref|NM_001374263.2| Homo sapiens peroxisome proliferator activated receptor gamma (PPARG), transcript variant 13, mRNA\n",
      "0.0\n",
      "gi|1823752875|ref|NM_001374264.2| Homo sapiens peroxisome proliferator activated receptor gamma (PPARG), transcript variant 14, mRNA\n",
      "0.0\n",
      "gi|1823691621|ref|NM_138711.6| Homo sapiens peroxisome proliferator activated receptor gamma (PPARG), transcript variant 3, mRNA\n",
      "0.0\n",
      "gi|428229098|dbj|AB565476.1| Homo sapiens PPAR gamma mRNA for peroxisome proliferative activated receptor gamma, complete cds\n",
      "0.0\n",
      "gi|283132453|dbj|AB472042.1| Homo sapiens PPARG mRNA for peroxisome proliferative activated receptor gamma isoform 6 variant, complete cds\n",
      "0.0\n",
      "gi|158254593|dbj|AK290581.1| Homo sapiens cDNA FLJ75648 complete cds, highly similar to Homo sapiens peroxisome proliferative activated receptor, gamma(PPARG), transcript variant 4, mRNA\n",
      "0.0\n",
      "gi|13905055|gb|BC006811.1| Homo sapiens peroxisome proliferator-activated receptor gamma, mRNA (cDNA clone MGC:5041 IMAGE:3447380), complete cds\n",
      "0.0\n",
      "gi|29169313|gb|AY222643.1| Homo sapiens CREB3L2-PPARgamma mRNA, complete cds\n",
      "0.0\n",
      "gi|62898787|dbj|AK223528.1| Homo sapiens mRNA for peroxisome proliferative activated receptor gamma isoform 2 variant, clone: FCC124E05\n",
      "0.0\n",
      "gi|123980409|gb|DQ891108.2| Synthetic construct clone IMAGE:100003738; FLH169397.01X; RZPDo839B1196D peroxisome proliferative activated receptor, gamma (PPARG) gene, encodes complete protein\n",
      "0.0\n",
      "gi|30583400|gb|BT007281.1| Homo sapiens peroxisome proliferative activated receptor, gamma mRNA, complete cds >gi|60654872|gb|AY889210.1| Synthetic construct Homo sapiens clone FLH012527.01X peroxisome proliferative activated receptor gamma (PPARG) mRNA, complete cds\n",
      "0.0\n",
      "gi|1147692446|emb|LT740694.1| Human ORFeome Gateway entry vector pENTR223-PPARG, complete sequence\n",
      "0.0\n",
      "gi|649102313|gb|KJ891855.1| Synthetic construct Homo sapiens clone ccsbBroadEn_01249 PPARG gene, encodes complete protein\n",
      "0.0\n",
      "gi|123995226|gb|DQ894289.2| Synthetic construct Homo sapiens clone IMAGE:100008749; FLH169393.01L; RZPDo839B1195D peroxisome proliferative activated receptor, gamma (PPARG) gene, encodes complete protein\n",
      "0.0\n",
      "gi|325495542|gb|HQ692866.1| Homo sapiens peroxisome proliferator-activated nuclear receptor gamma variant 1 (NR1C3) mRNA, complete cds\n",
      "0.0\n",
      "gi|957950004|gb|KU178267.1| Homo sapiens peroxisome proliferator-activated receptor gamma isoform 1 (PPARG) mRNA, partial cds\n",
      "0.0\n",
      "gi|261859985|dbj|AB528351.1| Synthetic construct DNA, clone: pF1KB7770, Homo sapiens PPARG gene for peroxisome proliferator-activated receptor gamma, without stop codon, in Flexi system\n",
      "0.0\n",
      "gi|823669607|gb|KR709634.1| Synthetic construct Homo sapiens clone CCSBHm_00004362 PPARG (PPARG) mRNA, encodes complete protein\n",
      "0.0\n",
      "gi|823669605|gb|KR709633.1| Synthetic construct Homo sapiens clone CCSBHm_00004358 PPARG (PPARG) mRNA, encodes complete protein\n",
      "0.0\n",
      "gi|823669603|gb|KR709632.1| Synthetic construct Homo sapiens clone CCSBHm_00004356 PPARG (PPARG) mRNA, encodes complete protein\n",
      "0.0\n"
     ]
    }
   ],
   "source": [
    "# import NCBIXML to read the xml files\n",
    "from Bio.Blast import NCBIXML\n",
    "\n",
    "# open xml file\n",
    "humanPPARGxml = open(\"humanPPARG_BLASTresults.xml\")\n",
    "blast_record = NCBIXML.read(humanPPARGxml)\n",
    "\n",
    "# display the hits based off of similarity\n",
    "for hit in blast_record.descriptions: \n",
    "    print(hit.title)\n",
    "    print(hit.e)"
   ]
  },
  {
   "cell_type": "code",
   "execution_count": 231,
   "id": "dec20b2f",
   "metadata": {},
   "outputs": [],
   "source": [
    "# the first hit of a different animal species that was not a homo sapien was gi|1367268168|ref|XM_016940489.2| PREDICTED: Pan troglodytes peroxisome proliferator activated receptor gamma (PPARG), transcript variant X1, mRNA\n",
    "# the Pan troglodytes is a Chimpanzee which is a species of Great Ape\n",
    "# extract that file from NCBI for use in pairwise sequence alignment \n",
    "\n",
    "ChimpPPARG = open(\"ChimpPPARG.fasta\").read() \n",
    "#ChimpPPARG"
   ]
  },
  {
   "cell_type": "markdown",
   "id": "592dbb6d",
   "metadata": {},
   "source": [
    "#### PPAR Delta"
   ]
  },
  {
   "cell_type": "code",
   "execution_count": 236,
   "id": "8be7560d",
   "metadata": {},
   "outputs": [],
   "source": [
    "# read in the human PPAR Delta fasta file downloaded from NCBI\n",
    "\n",
    "humanPPARD = open(\"humanPPARDelta.fasta\").read() \n",
    "#humanPPARD"
   ]
  },
  {
   "cell_type": "code",
   "execution_count": 213,
   "id": "7a84d7b5",
   "metadata": {},
   "outputs": [
    {
     "data": {
      "text/plain": [
       "<_io.StringIO at 0x7f88ccdf2670>"
      ]
     },
     "execution_count": 213,
     "metadata": {},
     "output_type": "execute_result"
    }
   ],
   "source": [
    "# perform BLAST search on PPAR Delta homo sapien\n",
    "PPARD_BLAST = NCBIWWW.qblast(\"blastn\", \"nt\", humanPPARD) \n",
    "PPARD_BLAST"
   ]
  },
  {
   "cell_type": "code",
   "execution_count": 214,
   "id": "6331ac4d",
   "metadata": {},
   "outputs": [],
   "source": [
    "# save BLAST search results to xml file\n",
    "\n",
    "with open(\"humanPPARD_BLASTresults.xml\", 'w') as save_file: \n",
    "    humanPPARD_blast_results = PPARD_BLAST.read()\n",
    "    save_file.write(humanPPARD_blast_results)"
   ]
  },
  {
   "cell_type": "code",
   "execution_count": 215,
   "id": "e212a6fa",
   "metadata": {},
   "outputs": [
    {
     "name": "stdout",
     "output_type": "stream",
     "text": [
      "gi|1889590225|ref|NM_001171819.2| Homo sapiens peroxisome proliferator activated receptor delta (PPARD), transcript variant 4, mRNA\n",
      "0.0\n",
      "gi|221041339|dbj|AK296425.1| Homo sapiens cDNA FLJ61623 complete cds, highly similar to Peroxisome proliferator-activated receptor delta\n",
      "0.0\n",
      "gi|1675060762|ref|NM_001171818.2| Homo sapiens peroxisome proliferator activated receptor delta (PPARD), transcript variant 3, mRNA\n",
      "0.0\n",
      "gi|1519313478|ref|NM_006238.5| Homo sapiens peroxisome proliferator activated receptor delta (PPARD), transcript variant 1, mRNA\n",
      "0.0\n",
      "gi|2217361901|ref|XM_047418931.1| PREDICTED: Homo sapiens peroxisome proliferator activated receptor delta (PPARD), transcript variant X23, mRNA\n",
      "0.0\n",
      "gi|2217361899|ref|XM_047418930.1| PREDICTED: Homo sapiens peroxisome proliferator activated receptor delta (PPARD), transcript variant X22, mRNA\n",
      "0.0\n",
      "gi|2217361897|ref|XM_047418929.1| PREDICTED: Homo sapiens peroxisome proliferator activated receptor delta (PPARD), transcript variant X21, mRNA\n",
      "0.0\n",
      "gi|2217361896|ref|XM_017010973.2| PREDICTED: Homo sapiens peroxisome proliferator activated receptor delta (PPARD), transcript variant X20, mRNA\n",
      "0.0\n",
      "gi|2217361894|ref|XM_047418928.1| PREDICTED: Homo sapiens peroxisome proliferator activated receptor delta (PPARD), transcript variant X19, mRNA\n",
      "0.0\n",
      "gi|2217361892|ref|XM_047418927.1| PREDICTED: Homo sapiens peroxisome proliferator activated receptor delta (PPARD), transcript variant X18, mRNA\n",
      "0.0\n",
      "gi|2217361891|ref|XM_006715123.2| PREDICTED: Homo sapiens peroxisome proliferator activated receptor delta (PPARD), transcript variant X17, mRNA\n",
      "0.0\n",
      "gi|2217361889|ref|XM_047418926.1| PREDICTED: Homo sapiens peroxisome proliferator activated receptor delta (PPARD), transcript variant X16, mRNA\n",
      "0.0\n",
      "gi|2217361888|ref|XM_017010974.2| PREDICTED: Homo sapiens peroxisome proliferator activated receptor delta (PPARD), transcript variant X15, mRNA\n",
      "0.0\n",
      "gi|2217361886|ref|XM_047418925.1| PREDICTED: Homo sapiens peroxisome proliferator activated receptor delta (PPARD), transcript variant X14, mRNA\n",
      "0.0\n",
      "gi|2217361885|ref|XM_005249193.2| PREDICTED: Homo sapiens peroxisome proliferator activated receptor delta (PPARD), transcript variant X13, mRNA\n",
      "0.0\n",
      "gi|2217361883|ref|XM_047418924.1| PREDICTED: Homo sapiens peroxisome proliferator activated receptor delta (PPARD), transcript variant X12, mRNA\n",
      "0.0\n",
      "gi|2217361881|ref|XM_047418923.1| PREDICTED: Homo sapiens peroxisome proliferator activated receptor delta (PPARD), transcript variant X11, mRNA\n",
      "0.0\n",
      "gi|2217361879|ref|XM_047418922.1| PREDICTED: Homo sapiens peroxisome proliferator activated receptor delta (PPARD), transcript variant X10, mRNA\n",
      "0.0\n",
      "gi|2217361877|ref|XM_047418921.1| PREDICTED: Homo sapiens peroxisome proliferator activated receptor delta (PPARD), transcript variant X9, mRNA\n",
      "0.0\n",
      "gi|2217361875|ref|XM_047418920.1| PREDICTED: Homo sapiens peroxisome proliferator activated receptor delta (PPARD), transcript variant X8, mRNA\n",
      "0.0\n",
      "gi|2217361873|ref|XM_047418919.1| PREDICTED: Homo sapiens peroxisome proliferator activated receptor delta (PPARD), transcript variant X7, mRNA\n",
      "0.0\n",
      "gi|2217361872|ref|XM_011514707.2| PREDICTED: Homo sapiens peroxisome proliferator activated receptor delta (PPARD), transcript variant X6, mRNA\n",
      "0.0\n",
      "gi|2217361870|ref|XM_047418918.1| PREDICTED: Homo sapiens peroxisome proliferator activated receptor delta (PPARD), transcript variant X5, mRNA\n",
      "0.0\n",
      "gi|2217361868|ref|XM_047418917.1| PREDICTED: Homo sapiens peroxisome proliferator activated receptor delta (PPARD), transcript variant X4, mRNA\n",
      "0.0\n",
      "gi|2217361867|ref|XM_011514710.2| PREDICTED: Homo sapiens peroxisome proliferator activated receptor delta (PPARD), transcript variant X3, mRNA\n",
      "0.0\n",
      "gi|2217361865|ref|XM_047418916.1| PREDICTED: Homo sapiens peroxisome proliferator activated receptor delta (PPARD), transcript variant X2, mRNA\n",
      "0.0\n",
      "gi|2217361863|ref|XM_047418915.1| PREDICTED: Homo sapiens peroxisome proliferator activated receptor delta (PPARD), transcript variant X1, mRNA\n",
      "0.0\n",
      "gi|34527791|dbj|AK122614.1| Homo sapiens cDNA FLJ16026 fis, clone DFNES2005690, highly similar to Peroxisome proliferator-activated receptor delta\n",
      "0.0\n",
      "gi|190229|gb|L07592.1|HUMPPARA Human peroxisome proliferator activated receptor mRNA, complete cds\n",
      "0.0\n",
      "gi|216409689|dbj|AB307691.1| Homo sapiens NR1C2 mRNA for peroxisome proliferator-activated receptor delta, complete cds\n",
      "0.0\n",
      "gi|60115374|gb|AY919140.1| Homo sapiens peroxisome proliferator activated receptor delta mRNA, complete cds\n",
      "0.0\n",
      "gi|208965327|dbj|AB463165.1| Synthetic construct DNA, clone: pF1KB4629, Homo sapiens PPARD gene for peroxisome proliferator-activated receptor delta, without stop codon, in Flexi system\n",
      "0.0\n",
      "gi|158256753|dbj|AK291661.1| Homo sapiens cDNA FLJ77425 complete cds, highly similar to Homo sapiens peroxisome proliferative activated receptor, delta (PPARD), transcript variant 1, mRNA\n",
      "0.0\n",
      "gi|1849149315|ref|XM_034961917.1| PREDICTED: Pan paniscus peroxisome proliferator activated receptor delta (PPARD), transcript variant X5, mRNA\n",
      "0.0\n",
      "gi|1849149313|ref|XM_034961916.1| PREDICTED: Pan paniscus peroxisome proliferator activated receptor delta (PPARD), transcript variant X4, mRNA\n",
      "0.0\n",
      "gi|1849149311|ref|XM_034961915.1| PREDICTED: Pan paniscus peroxisome proliferator activated receptor delta (PPARD), transcript variant X3, mRNA\n",
      "0.0\n",
      "gi|1849149309|ref|XM_034961914.1| PREDICTED: Pan paniscus peroxisome proliferator activated receptor delta (PPARD), transcript variant X2, mRNA\n",
      "0.0\n",
      "gi|1849149307|ref|XM_034961913.1| PREDICTED: Pan paniscus peroxisome proliferator activated receptor delta (PPARD), transcript variant X1, mRNA\n",
      "0.0\n",
      "gi|1753077986|ref|XM_031012294.1| PREDICTED: Gorilla gorilla gorilla peroxisome proliferator activated receptor delta (PPARD), transcript variant X5, mRNA\n",
      "0.0\n",
      "gi|1753077984|ref|XM_031012293.1| PREDICTED: Gorilla gorilla gorilla peroxisome proliferator activated receptor delta (PPARD), transcript variant X4, mRNA\n",
      "0.0\n",
      "gi|1753077982|ref|XM_031012292.1| PREDICTED: Gorilla gorilla gorilla peroxisome proliferator activated receptor delta (PPARD), transcript variant X3, mRNA\n",
      "0.0\n",
      "gi|1753077980|ref|XM_031012291.1| PREDICTED: Gorilla gorilla gorilla peroxisome proliferator activated receptor delta (PPARD), transcript variant X2, mRNA\n",
      "0.0\n",
      "gi|1753077978|ref|XM_031012290.1| PREDICTED: Gorilla gorilla gorilla peroxisome proliferator activated receptor delta (PPARD), transcript variant X1, mRNA\n",
      "0.0\n",
      "gi|1367307863|ref|XM_016955307.2| PREDICTED: Pan troglodytes peroxisome proliferator activated receptor delta (PPARD), transcript variant X6, mRNA\n",
      "0.0\n",
      "gi|1367307861|ref|XM_016955306.2| PREDICTED: Pan troglodytes peroxisome proliferator activated receptor delta (PPARD), transcript variant X5, mRNA\n",
      "0.0\n",
      "gi|1367307858|ref|XM_016955305.2| PREDICTED: Pan troglodytes peroxisome proliferator activated receptor delta (PPARD), transcript variant X4, mRNA\n",
      "0.0\n",
      "gi|1367307855|ref|XM_009451110.3| PREDICTED: Pan troglodytes peroxisome proliferator activated receptor delta (PPARD), transcript variant X3, mRNA\n",
      "0.0\n",
      "gi|1367307852|ref|XM_518905.5| PREDICTED: Pan troglodytes peroxisome proliferator activated receptor delta (PPARD), transcript variant X2, mRNA\n",
      "0.0\n",
      "gi|1351506457|ref|XM_009241781.2| PREDICTED: Pongo abelii peroxisome proliferator activated receptor delta (PPARD), transcript variant X3, mRNA\n",
      "0.0\n",
      "gi|1351506455|ref|XM_024248730.1| PREDICTED: Pongo abelii peroxisome proliferator activated receptor delta (PPARD), transcript variant X2, mRNA\n",
      "0.0\n"
     ]
    }
   ],
   "source": [
    "# open xml file\n",
    "humanPPARD_handle = open(\"humanPPARD_BLASTresults.xml\")\n",
    "humanPPARD_blast_record = NCBIXML.read(humanPPARD_handle)\n",
    "\n",
    "# display the hits based off of similarity\n",
    "for hit in humanPPARD_blast_record.descriptions: \n",
    "    print(hit.title)\n",
    "    print(hit.e)"
   ]
  },
  {
   "cell_type": "code",
   "execution_count": 237,
   "id": "bb650a76",
   "metadata": {},
   "outputs": [],
   "source": [
    "# the first hit of a different animal species that was not a homo sapien was gi|1849149315|ref|XM_034961917.1| PREDICTED: Pan paniscus peroxisome proliferator activated receptor delta (PPARD), transcript variant X5, mRNA\n",
    "# the Pan paniscus is an endangered great ape\n",
    "# extract that file from NCBI for use in pairwise sequence alignment \n",
    "\n",
    "ApePPARD = open(\"ApePPARD.fasta\").read() \n",
    "#ApePPARD"
   ]
  },
  {
   "cell_type": "markdown",
   "id": "5d994152",
   "metadata": {},
   "source": [
    "#### Pairwise Sequence Alignment"
   ]
  },
  {
   "cell_type": "code",
   "execution_count": 239,
   "id": "b211d3ea",
   "metadata": {},
   "outputs": [],
   "source": [
    "# read in the parsed files with SeqIO to use as the length for pairwise sequence alignment\n",
    "humanPPARAparse = list(SeqIO.parse(\"sequence-2.fasta\", \"fasta\"))\n",
    "ApePPARAparse = list(SeqIO.parse(\"ApePPARA.fasta\", \"fasta\"))\n",
    "humanPPARGparse = list(SeqIO.parse(\"humanPPARGamma.fasta\", \"fasta\"))\n",
    "ChimpPPARGparse = list(SeqIO.parse(\"ChimpPPARG.fasta\", \"fasta\"))\n",
    "humanPPARDparse = list(SeqIO.parse(\"humanPPARDelta.fasta\", \"fasta\"))\n",
    "ApePPARDparse = list(SeqIO.parse(\"ApePPARD.fasta\", \"fasta\"))"
   ]
  },
  {
   "cell_type": "code",
   "execution_count": 289,
   "id": "990a00e4",
   "metadata": {},
   "outputs": [],
   "source": [
    "# defining size variable that is used in the nested for loop below\n",
    "#code check\n",
    "#len(humanPPARAparse)\n",
    "#len(humanPPARGparse)\n",
    "#len(humanPPARDparse)\n",
    "#len(ApePPARAparse)\n",
    "#len(ApePPARDparse)\n",
    "#len(ChimpPPARGparse)\n",
    "# all outputs are the same of 1, so len(humanPPARAparse) will just be used as the default for all pairwise sequence alignments\n",
    "# global variable\n",
    "size = len(humanPPARAparse)\n",
    "#print(size)\n",
    "\n",
    "# initiating empty numpy matrix that is the length of the size variable\n",
    "alignments_score = np.empty(shape=(size,size))"
   ]
  },
  {
   "cell_type": "code",
   "execution_count": 291,
   "id": "9ae78194",
   "metadata": {},
   "outputs": [
    {
     "data": {
      "text/plain": [
       "array([[753.]])"
      ]
     },
     "execution_count": 291,
     "metadata": {},
     "output_type": "execute_result"
    }
   ],
   "source": [
    "# pairwise sequence alignment function using a nested for loop\n",
    "# perfoming pairwise sequence alignment on the two PPAR Delta data files \n",
    "\n",
    "def pairwise_seq(numpy_array, size):\n",
    "    for i in range(size):\n",
    "        for j in range(size):\n",
    "        # Define the sequences that are being aligned X and Y\n",
    "        # local variables\n",
    "            X = humanPPARAparse[i].seq\n",
    "            Y = ApePPARAparse[j].seq\n",
    "            #code check\n",
    "            #print(humanPPARAparse[i].id)\n",
    "\n",
    "        # Identical matching bases have a score of 1, if not else 0\n",
    "        # no gap penalties\n",
    "        # perform pairwise sequence alignment and assign pairwise alignment score to the numpy array\n",
    "        # local variable\n",
    "            numpy_array[i,j] = int(pairwise2.align.globalxx(X, Y, score_only=True))\n",
    "\n",
    "    return numpy_array\n",
    "\n",
    "PPARA_alignment_scores = pairwise_seq(alignments_score, size)\n",
    "PPARA_alignment_scores"
   ]
  },
  {
   "cell_type": "code",
   "execution_count": 266,
   "id": "bc23eab5",
   "metadata": {},
   "outputs": [
    {
     "data": {
      "text/plain": [
       "array([[1204.]])"
      ]
     },
     "execution_count": 266,
     "metadata": {},
     "output_type": "execute_result"
    }
   ],
   "source": [
    "# pairwise sequence alignment function using a nested for loop\n",
    "# perfoming pairwise sequence alignment on the two PPAR Alpha data files \n",
    "\n",
    "def pairwise_seq2(numpy_array, size):\n",
    "    for i in range(size):\n",
    "        for j in range(size):\n",
    "        # Define the sequences that are being aligned X and Y\n",
    "        # local variables\n",
    "            X = humanPPARDparse[i].seq\n",
    "            Y = ApePPARDparse[j].seq\n",
    "            #code check\n",
    "            #print(humanPPARAparse[i].id)\n",
    "\n",
    "        # Identical matching bases have a score of 1, if not else 0\n",
    "        # no gap penalties\n",
    "        # perform pairwise sequence alignment and assign pairwise alignment score to the numpy array\n",
    "        # local variable\n",
    "            numpy_array[i,j] = int(pairwise2.align.globalxx(X, Y, score_only=True))\n",
    "\n",
    "    return numpy_array\n",
    "\n",
    "PPARD_alignment_scores = pairwise_seq2(alignments_score, size)\n",
    "PPARD_alignment_scores"
   ]
  },
  {
   "cell_type": "code",
   "execution_count": 361,
   "id": "f7194e34",
   "metadata": {},
   "outputs": [
    {
     "data": {
      "text/plain": [
       "array([[1510.]])"
      ]
     },
     "execution_count": 361,
     "metadata": {},
     "output_type": "execute_result"
    }
   ],
   "source": [
    "# pairwise sequence alignment function using a nested for loop\n",
    "# perfoming pairwise sequence alignment on the two PPAR Delta data files \n",
    "\n",
    "def pairwise_seq3(numpy_array, size):\n",
    "    for i in range(size):\n",
    "        for j in range(size):\n",
    "        # Define the sequences that are being aligned X and Y\n",
    "        # local variables\n",
    "            X = humanPPARGparse[i].seq\n",
    "            Y = ChimpPPARGparse[j].seq\n",
    "            #code check\n",
    "            #print(humanPPARGparse[i].id)\n",
    "\n",
    "        # Identical matching bases have a score of 1, if not else 0\n",
    "        # no gap penalties\n",
    "        # perform pairwise sequence alignment and assign pairwise alignment score to the numpy array\n",
    "        # local variable\n",
    "            numpy_array[i,j] = int(pairwise2.align.globalxx(X, Y, score_only=True))\n",
    "        \n",
    "\n",
    "    return numpy_array\n",
    "\n",
    "PPARG_alignment_scores = pairwise_seq3(alignments_score, size)\n",
    "PPARG_alignment_scores"
   ]
  },
  {
   "cell_type": "markdown",
   "id": "55ea28b8",
   "metadata": {},
   "source": [
    "### Plotting the Results - Dot Plot\n",
    "I chose to use a dot plot to display the similarities between the data. Dot plots are effective in visualizing the alignment between two sequences. It aligns each sequence on each axis and plots out the matching sequences using a shaded grid. Each black grid represents a match in the sequences, and it is visually easy to interpret the data once it has been plotted out by observing the shape, or lack thereof. I will be using a window size of 5, meaning it is assessing 5 characters per scan. \n"
   ]
  },
  {
   "cell_type": "code",
   "execution_count": 366,
   "id": "e7910e90",
   "metadata": {},
   "outputs": [],
   "source": [
    "# displaying alignments, uncomment to display \n",
    "# global variables\n",
    "# these visuals help me extract the sections for the dot plot\n",
    "\n",
    "PPARAalignment = pairwise2.align.globalxx(humanPPARA_seq, ApePPARA_seq)\n",
    "#for alignment in PPARAalignment:\n",
    "    #print(format_alignment(*alignment))\n",
    "\n",
    "PPARGalignment = pairwise2.align.globalxx(humanPPARD_seq, ApePPARD_seq)  \n",
    "#for alignment in PPARDalignment:\n",
    "    #print(format_alignment(*alignment))\n",
    "    \n",
    "PPARDalignment = pairwise2.align.globalxx(humanPPARG_seq, ChimpPPARG_seq)\n",
    "#for alignment in PPARGalignment:\n",
    "   #print(format_alignment(*alignment))\n",
    "    "
   ]
  },
  {
   "cell_type": "code",
   "execution_count": 332,
   "id": "6182f3fc",
   "metadata": {},
   "outputs": [],
   "source": [
    "# suggested by TA to only use a small section of nucletides for dot plot (around 10-20 nucleotides, I chose 20)\n",
    "# since using the whole sequence is too large and would likely take too long to run, would crash, or be difficult to view\n",
    "# extract section of 20 nucleotides with the closest match between human PPARA and Ape PPARA\n",
    "# assign those sections to new variables, global variables\n",
    "# dot plot will be performed on human PPAR Gamma and Chimp PPAR Gamma since that had the highest alignment score\n",
    "# extracted from region 12638980 to 12639000\n",
    "\n",
    "humanPPARG_section = str(\"TTATGCATATTGTTTATAAA\")\n",
    "ChimpPPARG_section = str(\"TTATGCATATTGTTTATAAA\")"
   ]
  },
  {
   "cell_type": "code",
   "execution_count": 338,
   "id": "71fef665",
   "metadata": {},
   "outputs": [],
   "source": [
    "# creating a dotplot\n",
    "# from local alignments\n",
    "\n",
    "# set window size\n",
    "window = 5\n",
    "\n",
    "#assigning the data to the variables that will be plotted on the x and y axes\n",
    "seq_one = humanPPARG_section\n",
    "#print(seq_one)\n",
    "seq_two = ChimpPPARG_section\n",
    "#print(seq_two)\n",
    "\n",
    "# saving the data in the dot plot \n",
    "# based on window size that was set to 5\n",
    "# compares all i and all j, in the range of the lengths of the sequences \n",
    "\n",
    "data = [\n",
    "    [(seq_one[i : i + window] != seq_two[j: j + window])\n",
    "        for j in range(len(seq_one) - window)\n",
    "    ]\n",
    "    for i in range(len(seq_two) - window)\n",
    "]\n",
    "\n",
    "\n",
    "#print(data)"
   ]
  },
  {
   "cell_type": "code",
   "execution_count": 336,
   "id": "ec7abb39",
   "metadata": {},
   "outputs": [
    {
     "data": {
      "image/png": "[encoded data removed]",
      "text/plain": [
       "<Figure size 432x288 with 1 Axes>"
      ]
     },
     "metadata": {
      "needs_background": "light"
     },
     "output_type": "display_data"
    }
   ],
   "source": [
    "# creating and labeling dot plot\n",
    "pylab.gray()\n",
    "# load in data\n",
    "pylab.imshow(data)\n",
    "# create x axis labels\n",
    "pylab.xlabel(\"%s (length %i bp)\" % (\"Human PPAR Gamma\", len(humanPPARG_section)))\n",
    "# create y axis labels\n",
    "pylab.ylabel(\"%s (length %i bp)\" % (\"Chimp PPAR Gamma\", len(ChimpPPARG_section)))\n",
    "# create title for dot plot\n",
    "pylab.title(\"Dot plot using window size %i\\n(allowing no mis-matches)\" % window)\n",
    "\n",
    "# show dotplot \n",
    "pylab.show()"
   ]
  },
  {
   "cell_type": "markdown",
   "id": "6c0fce13",
   "metadata": {},
   "source": [
    "### Analysis of Results\n",
    "The black blocks represents each matching pair. A perfect diagonal means that the two nucleotide sequences are a perfect match, meaning they are identical. A window size of 5 shows indicates that 5 nucleotides are being analyzed as once every analysis run. From this dotplot, the similarity between the Chimp PPAR Gamma sequence and the human PPAR Gamma sequence can be visualized, and it is clear from the perfect diagonal in this plot that this Chimp PPAR Gamma sequence section and this human PPAR Gamma sequence section are identical. This also correlates with their near perfect high pairwise sequence alignment score. The alignments score for homo sapien PPAR Gamma and Pan troglodytes PPAR Gamma was 1510 out of a perfect score of 1518, which is around 99.5% similarity. This is a near perfect, very high alignment score. The alignment score between Human PPAR Alpha and Ape PPAR Alpha was 753 out of a perfect score of 978, which was 77.0% similarity. The alignment score between Human PPAR Delta and Ape PPAR Delta was 1204 out of a perfect score of 1326, which was a 90.8% similarity, which was also high, but not as high as the similarity between the PPAR Gamma receptors. This supports my hypothesis that there are species with similar PPAR receptors and subsets, with similarity of at least an 75%. Overall, human PPAR receptors are in most smilarity with the Pan genus which includes the Apes and Chimpanzees. In particular, PPAR Gamma from the chimpanzees matches nearly identical with human PPAR Gamma, as seen from the pairwise seqence alignment as well as the dot plot. In conclusion, PPAR receptors and its three subsets are all not unique to humans and are not far in relation with other species. The human PPAR may have differences from other species, but there are species, especially the Pan genus, that have PPAR receptors with high similarity to humans, some near identical. "
   ]
  },
  {
   "cell_type": "code",
   "execution_count": null,
   "id": "1c5ee462",
   "metadata": {},
   "outputs": [],
   "source": []
  }
 ],
 "metadata": {
  "kernelspec": {
   "display_name": "Python 3 (ipykernel)",
   "language": "python",
   "name": "python3"
  },
  "language_info": {
   "codemirror_mode": {
    "name": "ipython",
    "version": 3
   },
   "file_extension": ".py",
   "mimetype": "text/x-python",
   "name": "python",
   "nbconvert_exporter": "python",
   "pygments_lexer": "ipython3",
   "version": "3.9.7"
  }
 },
 "nbformat": 4,
 "nbformat_minor": 5
}
